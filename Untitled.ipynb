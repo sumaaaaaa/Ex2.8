{
 "cells": [
  {
   "cell_type": "code",
   "execution_count": 127,
   "id": "f7407cdb-c847-4e81-8f50-31ceda7fa823",
   "metadata": {},
   "outputs": [
    {
     "name": "stdout",
     "output_type": "stream",
     "text": [
      "gzip: zip.train.gz: No such file or directory\n",
      "gzip: zip.test.gz: No such file or directory\n"
     ]
    }
   ],
   "source": [
    "!gzip -d zip.train.gz\n",
    "!gzip -d zip.test.gz"
   ]
  },
  {
   "cell_type": "code",
   "execution_count": 128,
   "id": "e966a24b-dacf-45d1-8285-17a29c24712f",
   "metadata": {},
   "outputs": [],
   "source": [
    "import numpy as np\n",
    "from sklearn.linear_model import LinearRegression\n",
    "from sklearn.neighbors import KNeighborsClassifier\n",
    "import matplotlib.pyplot as plt"
   ]
  },
  {
   "cell_type": "code",
   "execution_count": 129,
   "id": "6bba5f42-5341-46cb-b17e-5a2afdfe5d25",
   "metadata": {},
   "outputs": [],
   "source": [
    "train = np.genfromtxt(\"zip.train\", dtype=float, delimiter=' ', skip_header=True)\n",
    "test = np.genfromtxt(\"zip.test\", dtype=float, delimiter=' ', skip_header=True)"
   ]
  },
  {
   "cell_type": "code",
   "execution_count": 130,
   "id": "d3c09a7b-60c8-43ed-82bd-b5bec4cb3c48",
   "metadata": {},
   "outputs": [],
   "source": [
    "x_train, y_train = train[:, 1:], train[:, 0]\n",
    "x_test, y_test = test[:, 1:], test[:, 0]"
   ]
  },
  {
   "cell_type": "code",
   "execution_count": 131,
   "id": "b1194275-eec5-4f7c-b2da-d3c66c3368b6",
   "metadata": {},
   "outputs": [],
   "source": [
    "mask = (y_train == 2) | (y_train == 3)\n",
    "x_train = x_train[mask]\n",
    "y_train = y_train[mask]"
   ]
  },
  {
   "cell_type": "code",
   "execution_count": 132,
   "id": "6ac838b3-aab4-45ae-97c9-a09d58f01312",
   "metadata": {},
   "outputs": [],
   "source": [
    "mask = (y_test == 2) | (y_test == 3)\n",
    "x_test = x_test[mask]\n",
    "y_test = y_test[mask]"
   ]
  },
  {
   "cell_type": "code",
   "execution_count": 134,
   "id": "7c7447ad-8583-4173-9ba1-6dc279727e5e",
   "metadata": {},
   "outputs": [],
   "source": [
    "y_train[y_train == 3] = 1\n",
    "y_train[y_train == 2] = 0\n",
    "y_test[y_test == 3] = 1\n",
    "y_test[y_test == 2] = 0"
   ]
  },
  {
   "cell_type": "code",
   "execution_count": 135,
   "id": "64cd2561-2109-4dc0-a97a-c3a9f8cfcf85",
   "metadata": {},
   "outputs": [],
   "source": [
    "def qua(x):\n",
    "    x[x >= 0.5] = 1\n",
    "    x[x < 0.5] = 0\n",
    "\n",
    "def getErr(a, b):\n",
    "    return np.sum(a != b) / a.size"
   ]
  },
  {
   "cell_type": "code",
   "execution_count": 136,
   "id": "f63ba9bd-2171-49f2-b61d-1ff30d0d0e5c",
   "metadata": {},
   "outputs": [
    {
     "name": "stdout",
     "output_type": "stream",
     "text": [
      "LinerRegression : train/test error rates -> 4.12088%/0.57595%\n",
      "1-NN : train/test error rates -> 0.00000%/2.47253%\n",
      "3-NN : train/test error rates -> 0.50396%/3.02198%\n",
      "5-NN : train/test error rates -> 0.57595%/3.02198%\n",
      "7-NN : train/test error rates -> 0.64795%/3.29670%\n",
      "15-NN : train/test error rates -> 0.93593%/3.84615%\n"
     ]
    }
   ],
   "source": [
    "reg = LinearRegression().fit(x_train, y_train)\n",
    "pred_test = reg.predict(x_test)\n",
    "qua(pred_test)\n",
    "\n",
    "pred_train = reg.predict(x_train)\n",
    "qua(pred_train)\n",
    "\n",
    "print('LinerRegression : train/test error rates -> {:.5%}/{:.5%}'\n",
    "        .format(getErr(pred_test, y_test),getErr(pred_train, y_train)))\n",
    "\n",
    "for k in [1,3,5,7,15]:\n",
    "    cla = KNeighborsClassifier(n_neighbors=k)\n",
    "    cla.fit(x_train, y_train)\n",
    "    \n",
    "    pred_knn_train = cla.predict(x_train)\n",
    "    qua(pred_knn_train)\n",
    "\n",
    "    pred_knn_test = cla.predict(x_test)\n",
    "    qua(pred_knn_test)\n",
    "\n",
    "    print('{}-NN : train/test error rates -> {:.5%}/{:.5%}'\n",
    "        .format(k, getErr(pred_knn_train, y_train), getErr(pred_knn_test, y_test)))"
   ]
  },
  {
   "cell_type": "code",
   "execution_count": null,
   "id": "90b73704-9020-4c20-8c2b-5d040ceca5b0",
   "metadata": {},
   "outputs": [],
   "source": []
  }
 ],
 "metadata": {
  "kernelspec": {
   "display_name": "Python 3 (ipykernel)",
   "language": "python",
   "name": "python3"
  },
  "language_info": {
   "codemirror_mode": {
    "name": "ipython",
    "version": 3
   },
   "file_extension": ".py",
   "mimetype": "text/x-python",
   "name": "python",
   "nbconvert_exporter": "python",
   "pygments_lexer": "ipython3",
   "version": "3.9.16"
  }
 },
 "nbformat": 4,
 "nbformat_minor": 5
}
